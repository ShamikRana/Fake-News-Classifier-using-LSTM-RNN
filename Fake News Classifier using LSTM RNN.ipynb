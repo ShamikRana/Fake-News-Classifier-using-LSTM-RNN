{
 "cells": [
  {
   "cell_type": "markdown",
   "id": "39bd7ed9",
   "metadata": {},
   "source": [
    "## Importing Important Liabraries"
   ]
  },
  {
   "cell_type": "code",
   "execution_count": 1,
   "id": "14be6c3b",
   "metadata": {
    "execution": {
     "iopub.execute_input": "2022-10-26T14:25:31.932583Z",
     "iopub.status.busy": "2022-10-26T14:25:31.931549Z",
     "iopub.status.idle": "2022-10-26T14:25:33.819261Z",
     "shell.execute_reply": "2022-10-26T14:25:33.818088Z",
     "shell.execute_reply.started": "2022-10-26T14:25:31.932499Z"
    }
   },
   "outputs": [],
   "source": [
    "import numpy as np\n",
    "import pandas as pd\n",
    "import tensorflow\n",
    "from tensorflow.keras.layers import Embedding\n",
    "from tensorflow.keras.preprocessing.sequence import pad_sequences\n",
    "from tensorflow.keras.models import Sequential\n",
    "from tensorflow.keras.preprocessing.text import one_hot\n",
    "from tensorflow.keras.layers import LSTM\n",
    "from tensorflow.keras.layers import Dense\n",
    "from tensorflow.keras.layers import Dropout"
   ]
  },
  {
   "cell_type": "markdown",
   "id": "298167e4",
   "metadata": {},
   "source": [
    "## Importing Dataset"
   ]
  },
  {
   "cell_type": "code",
   "execution_count": 2,
   "id": "2285d75d",
   "metadata": {
    "execution": {
     "iopub.execute_input": "2022-10-26T14:25:33.825983Z",
     "iopub.status.busy": "2022-10-26T14:25:33.825594Z",
     "iopub.status.idle": "2022-10-26T14:25:35.341061Z",
     "shell.execute_reply": "2022-10-26T14:25:35.340079Z",
     "shell.execute_reply.started": "2022-10-26T14:25:33.825942Z"
    }
   },
   "outputs": [],
   "source": [
    "df = pd.read_csv(\"../input/news-articles/news.csv\")"
   ]
  },
  {
   "cell_type": "markdown",
   "id": "cb1ddd15",
   "metadata": {},
   "source": [
    "## Analysing Dataframe"
   ]
  },
  {
   "cell_type": "code",
   "execution_count": 3,
   "id": "5f06a8df",
   "metadata": {
    "execution": {
     "iopub.execute_input": "2022-10-26T14:25:35.342955Z",
     "iopub.status.busy": "2022-10-26T14:25:35.342568Z",
     "iopub.status.idle": "2022-10-26T14:25:35.361017Z",
     "shell.execute_reply": "2022-10-26T14:25:35.359837Z",
     "shell.execute_reply.started": "2022-10-26T14:25:35.342905Z"
    }
   },
   "outputs": [
    {
     "data": {
      "text/html": [
       "<div>\n",
       "<style scoped>\n",
       "    .dataframe tbody tr th:only-of-type {\n",
       "        vertical-align: middle;\n",
       "    }\n",
       "\n",
       "    .dataframe tbody tr th {\n",
       "        vertical-align: top;\n",
       "    }\n",
       "\n",
       "    .dataframe thead th {\n",
       "        text-align: right;\n",
       "    }\n",
       "</style>\n",
       "<table border=\"1\" class=\"dataframe\">\n",
       "  <thead>\n",
       "    <tr style=\"text-align: right;\">\n",
       "      <th></th>\n",
       "      <th>id</th>\n",
       "      <th>title</th>\n",
       "      <th>author</th>\n",
       "      <th>text</th>\n",
       "      <th>label</th>\n",
       "    </tr>\n",
       "  </thead>\n",
       "  <tbody>\n",
       "    <tr>\n",
       "      <th>0</th>\n",
       "      <td>0</td>\n",
       "      <td>House Dem Aide: We Didn’t Even See Comey’s Let...</td>\n",
       "      <td>Darrell Lucus</td>\n",
       "      <td>House Dem Aide: We Didn’t Even See Comey’s Let...</td>\n",
       "      <td>1</td>\n",
       "    </tr>\n",
       "    <tr>\n",
       "      <th>1</th>\n",
       "      <td>1</td>\n",
       "      <td>FLYNN: Hillary Clinton, Big Woman on Campus - ...</td>\n",
       "      <td>Daniel J. Flynn</td>\n",
       "      <td>Ever get the feeling your life circles the rou...</td>\n",
       "      <td>0</td>\n",
       "    </tr>\n",
       "    <tr>\n",
       "      <th>2</th>\n",
       "      <td>2</td>\n",
       "      <td>Why the Truth Might Get You Fired</td>\n",
       "      <td>Consortiumnews.com</td>\n",
       "      <td>Why the Truth Might Get You Fired October 29, ...</td>\n",
       "      <td>1</td>\n",
       "    </tr>\n",
       "    <tr>\n",
       "      <th>3</th>\n",
       "      <td>3</td>\n",
       "      <td>15 Civilians Killed In Single US Airstrike Hav...</td>\n",
       "      <td>Jessica Purkiss</td>\n",
       "      <td>Videos 15 Civilians Killed In Single US Airstr...</td>\n",
       "      <td>1</td>\n",
       "    </tr>\n",
       "    <tr>\n",
       "      <th>4</th>\n",
       "      <td>4</td>\n",
       "      <td>Iranian woman jailed for fictional unpublished...</td>\n",
       "      <td>Howard Portnoy</td>\n",
       "      <td>Print \\nAn Iranian woman has been sentenced to...</td>\n",
       "      <td>1</td>\n",
       "    </tr>\n",
       "  </tbody>\n",
       "</table>\n",
       "</div>"
      ],
      "text/plain": [
       "   id                                              title              author  \\\n",
       "0   0  House Dem Aide: We Didn’t Even See Comey’s Let...       Darrell Lucus   \n",
       "1   1  FLYNN: Hillary Clinton, Big Woman on Campus - ...     Daniel J. Flynn   \n",
       "2   2                  Why the Truth Might Get You Fired  Consortiumnews.com   \n",
       "3   3  15 Civilians Killed In Single US Airstrike Hav...     Jessica Purkiss   \n",
       "4   4  Iranian woman jailed for fictional unpublished...      Howard Portnoy   \n",
       "\n",
       "                                                text  label  \n",
       "0  House Dem Aide: We Didn’t Even See Comey’s Let...      1  \n",
       "1  Ever get the feeling your life circles the rou...      0  \n",
       "2  Why the Truth Might Get You Fired October 29, ...      1  \n",
       "3  Videos 15 Civilians Killed In Single US Airstr...      1  \n",
       "4  Print \\nAn Iranian woman has been sentenced to...      1  "
      ]
     },
     "execution_count": 3,
     "metadata": {},
     "output_type": "execute_result"
    }
   ],
   "source": [
    "df.head()"
   ]
  },
  {
   "cell_type": "code",
   "execution_count": 4,
   "id": "c48ca284",
   "metadata": {
    "execution": {
     "iopub.execute_input": "2022-10-26T14:25:35.364709Z",
     "iopub.status.busy": "2022-10-26T14:25:35.364269Z",
     "iopub.status.idle": "2022-10-26T14:25:35.373742Z",
     "shell.execute_reply": "2022-10-26T14:25:35.372823Z",
     "shell.execute_reply.started": "2022-10-26T14:25:35.364668Z"
    }
   },
   "outputs": [
    {
     "data": {
      "text/plain": [
       "(26000, 5)"
      ]
     },
     "execution_count": 4,
     "metadata": {},
     "output_type": "execute_result"
    }
   ],
   "source": [
    "df.shape"
   ]
  },
  {
   "cell_type": "code",
   "execution_count": 5,
   "id": "284b0ccd",
   "metadata": {
    "execution": {
     "iopub.execute_input": "2022-10-26T14:25:35.375725Z",
     "iopub.status.busy": "2022-10-26T14:25:35.375313Z",
     "iopub.status.idle": "2022-10-26T14:25:35.397140Z",
     "shell.execute_reply": "2022-10-26T14:25:35.396020Z",
     "shell.execute_reply.started": "2022-10-26T14:25:35.375688Z"
    }
   },
   "outputs": [
    {
     "name": "stdout",
     "output_type": "stream",
     "text": [
      "<class 'pandas.core.frame.DataFrame'>\n",
      "RangeIndex: 26000 entries, 0 to 25999\n",
      "Data columns (total 5 columns):\n",
      " #   Column  Non-Null Count  Dtype \n",
      "---  ------  --------------  ----- \n",
      " 0   id      26000 non-null  int64 \n",
      " 1   title   25320 non-null  object\n",
      " 2   author  23540 non-null  object\n",
      " 3   text    25954 non-null  object\n",
      " 4   label   26000 non-null  int64 \n",
      "dtypes: int64(2), object(3)\n",
      "memory usage: 1015.8+ KB\n"
     ]
    }
   ],
   "source": [
    "df.info()"
   ]
  },
  {
   "cell_type": "markdown",
   "id": "287c90c8",
   "metadata": {},
   "source": [
    "## Data Wrangling"
   ]
  },
  {
   "cell_type": "code",
   "execution_count": 6,
   "id": "5ccfa57b",
   "metadata": {
    "execution": {
     "iopub.execute_input": "2022-10-26T14:25:35.398995Z",
     "iopub.status.busy": "2022-10-26T14:25:35.398510Z",
     "iopub.status.idle": "2022-10-26T14:25:35.596013Z",
     "shell.execute_reply": "2022-10-26T14:25:35.595002Z",
     "shell.execute_reply.started": "2022-10-26T14:25:35.398954Z"
    }
   },
   "outputs": [],
   "source": [
    "df[\"news\"] = df[\"title\"] + \". \" + df[\"text\"]"
   ]
  },
  {
   "cell_type": "code",
   "execution_count": 7,
   "id": "c5e996bb",
   "metadata": {
    "execution": {
     "iopub.execute_input": "2022-10-26T14:25:35.597833Z",
     "iopub.status.busy": "2022-10-26T14:25:35.597373Z",
     "iopub.status.idle": "2022-10-26T14:25:35.617681Z",
     "shell.execute_reply": "2022-10-26T14:25:35.616808Z",
     "shell.execute_reply.started": "2022-10-26T14:25:35.597795Z"
    }
   },
   "outputs": [
    {
     "data": {
      "text/html": [
       "<div>\n",
       "<style scoped>\n",
       "    .dataframe tbody tr th:only-of-type {\n",
       "        vertical-align: middle;\n",
       "    }\n",
       "\n",
       "    .dataframe tbody tr th {\n",
       "        vertical-align: top;\n",
       "    }\n",
       "\n",
       "    .dataframe thead th {\n",
       "        text-align: right;\n",
       "    }\n",
       "</style>\n",
       "<table border=\"1\" class=\"dataframe\">\n",
       "  <thead>\n",
       "    <tr style=\"text-align: right;\">\n",
       "      <th></th>\n",
       "      <th>id</th>\n",
       "      <th>title</th>\n",
       "      <th>author</th>\n",
       "      <th>text</th>\n",
       "      <th>label</th>\n",
       "      <th>news</th>\n",
       "    </tr>\n",
       "  </thead>\n",
       "  <tbody>\n",
       "    <tr>\n",
       "      <th>0</th>\n",
       "      <td>0</td>\n",
       "      <td>House Dem Aide: We Didn’t Even See Comey’s Let...</td>\n",
       "      <td>Darrell Lucus</td>\n",
       "      <td>House Dem Aide: We Didn’t Even See Comey’s Let...</td>\n",
       "      <td>1</td>\n",
       "      <td>House Dem Aide: We Didn’t Even See Comey’s Let...</td>\n",
       "    </tr>\n",
       "    <tr>\n",
       "      <th>1</th>\n",
       "      <td>1</td>\n",
       "      <td>FLYNN: Hillary Clinton, Big Woman on Campus - ...</td>\n",
       "      <td>Daniel J. Flynn</td>\n",
       "      <td>Ever get the feeling your life circles the rou...</td>\n",
       "      <td>0</td>\n",
       "      <td>FLYNN: Hillary Clinton, Big Woman on Campus - ...</td>\n",
       "    </tr>\n",
       "    <tr>\n",
       "      <th>2</th>\n",
       "      <td>2</td>\n",
       "      <td>Why the Truth Might Get You Fired</td>\n",
       "      <td>Consortiumnews.com</td>\n",
       "      <td>Why the Truth Might Get You Fired October 29, ...</td>\n",
       "      <td>1</td>\n",
       "      <td>Why the Truth Might Get You Fired. Why the Tru...</td>\n",
       "    </tr>\n",
       "    <tr>\n",
       "      <th>3</th>\n",
       "      <td>3</td>\n",
       "      <td>15 Civilians Killed In Single US Airstrike Hav...</td>\n",
       "      <td>Jessica Purkiss</td>\n",
       "      <td>Videos 15 Civilians Killed In Single US Airstr...</td>\n",
       "      <td>1</td>\n",
       "      <td>15 Civilians Killed In Single US Airstrike Hav...</td>\n",
       "    </tr>\n",
       "    <tr>\n",
       "      <th>4</th>\n",
       "      <td>4</td>\n",
       "      <td>Iranian woman jailed for fictional unpublished...</td>\n",
       "      <td>Howard Portnoy</td>\n",
       "      <td>Print \\nAn Iranian woman has been sentenced to...</td>\n",
       "      <td>1</td>\n",
       "      <td>Iranian woman jailed for fictional unpublished...</td>\n",
       "    </tr>\n",
       "    <tr>\n",
       "      <th>...</th>\n",
       "      <td>...</td>\n",
       "      <td>...</td>\n",
       "      <td>...</td>\n",
       "      <td>...</td>\n",
       "      <td>...</td>\n",
       "      <td>...</td>\n",
       "    </tr>\n",
       "    <tr>\n",
       "      <th>25995</th>\n",
       "      <td>25995</td>\n",
       "      <td>The Bangladeshi Traffic Jam That Never Ends - ...</td>\n",
       "      <td>Jody Rosen</td>\n",
       "      <td>Of all the dysfunctions that plague the world’...</td>\n",
       "      <td>0</td>\n",
       "      <td>The Bangladeshi Traffic Jam That Never Ends - ...</td>\n",
       "    </tr>\n",
       "    <tr>\n",
       "      <th>25996</th>\n",
       "      <td>25996</td>\n",
       "      <td>John Kasich Signs One Abortion Bill in Ohio bu...</td>\n",
       "      <td>Sheryl Gay Stolberg</td>\n",
       "      <td>WASHINGTON  —   Gov. John Kasich of Ohio on Tu...</td>\n",
       "      <td>1</td>\n",
       "      <td>John Kasich Signs One Abortion Bill in Ohio bu...</td>\n",
       "    </tr>\n",
       "    <tr>\n",
       "      <th>25997</th>\n",
       "      <td>25997</td>\n",
       "      <td>California Today: What, Exactly, Is in Your Su...</td>\n",
       "      <td>Mike McPhate</td>\n",
       "      <td>Good morning. (Want to get California Today by...</td>\n",
       "      <td>0</td>\n",
       "      <td>California Today: What, Exactly, Is in Your Su...</td>\n",
       "    </tr>\n",
       "    <tr>\n",
       "      <th>25998</th>\n",
       "      <td>25998</td>\n",
       "      <td>300 US Marines To Be Deployed To Russian Borde...</td>\n",
       "      <td>NaN</td>\n",
       "      <td>« Previous - Next » 300 US Marines To Be Deplo...</td>\n",
       "      <td>1</td>\n",
       "      <td>300 US Marines To Be Deployed To Russian Borde...</td>\n",
       "    </tr>\n",
       "    <tr>\n",
       "      <th>25999</th>\n",
       "      <td>25999</td>\n",
       "      <td>Awkward Sex, Onscreen and Off - The New York T...</td>\n",
       "      <td>Teddy Wayne</td>\n",
       "      <td>Perhaps you’ve seen the new TV series whose pi...</td>\n",
       "      <td>0</td>\n",
       "      <td>Awkward Sex, Onscreen and Off - The New York T...</td>\n",
       "    </tr>\n",
       "  </tbody>\n",
       "</table>\n",
       "<p>26000 rows × 6 columns</p>\n",
       "</div>"
      ],
      "text/plain": [
       "          id                                              title  \\\n",
       "0          0  House Dem Aide: We Didn’t Even See Comey’s Let...   \n",
       "1          1  FLYNN: Hillary Clinton, Big Woman on Campus - ...   \n",
       "2          2                  Why the Truth Might Get You Fired   \n",
       "3          3  15 Civilians Killed In Single US Airstrike Hav...   \n",
       "4          4  Iranian woman jailed for fictional unpublished...   \n",
       "...      ...                                                ...   \n",
       "25995  25995  The Bangladeshi Traffic Jam That Never Ends - ...   \n",
       "25996  25996  John Kasich Signs One Abortion Bill in Ohio bu...   \n",
       "25997  25997  California Today: What, Exactly, Is in Your Su...   \n",
       "25998  25998  300 US Marines To Be Deployed To Russian Borde...   \n",
       "25999  25999  Awkward Sex, Onscreen and Off - The New York T...   \n",
       "\n",
       "                    author                                               text  \\\n",
       "0            Darrell Lucus  House Dem Aide: We Didn’t Even See Comey’s Let...   \n",
       "1          Daniel J. Flynn  Ever get the feeling your life circles the rou...   \n",
       "2       Consortiumnews.com  Why the Truth Might Get You Fired October 29, ...   \n",
       "3          Jessica Purkiss  Videos 15 Civilians Killed In Single US Airstr...   \n",
       "4           Howard Portnoy  Print \\nAn Iranian woman has been sentenced to...   \n",
       "...                    ...                                                ...   \n",
       "25995           Jody Rosen  Of all the dysfunctions that plague the world’...   \n",
       "25996  Sheryl Gay Stolberg  WASHINGTON  —   Gov. John Kasich of Ohio on Tu...   \n",
       "25997         Mike McPhate  Good morning. (Want to get California Today by...   \n",
       "25998                  NaN  « Previous - Next » 300 US Marines To Be Deplo...   \n",
       "25999          Teddy Wayne  Perhaps you’ve seen the new TV series whose pi...   \n",
       "\n",
       "       label                                               news  \n",
       "0          1  House Dem Aide: We Didn’t Even See Comey’s Let...  \n",
       "1          0  FLYNN: Hillary Clinton, Big Woman on Campus - ...  \n",
       "2          1  Why the Truth Might Get You Fired. Why the Tru...  \n",
       "3          1  15 Civilians Killed In Single US Airstrike Hav...  \n",
       "4          1  Iranian woman jailed for fictional unpublished...  \n",
       "...      ...                                                ...  \n",
       "25995      0  The Bangladeshi Traffic Jam That Never Ends - ...  \n",
       "25996      1  John Kasich Signs One Abortion Bill in Ohio bu...  \n",
       "25997      0  California Today: What, Exactly, Is in Your Su...  \n",
       "25998      1  300 US Marines To Be Deployed To Russian Borde...  \n",
       "25999      0  Awkward Sex, Onscreen and Off - The New York T...  \n",
       "\n",
       "[26000 rows x 6 columns]"
      ]
     },
     "execution_count": 7,
     "metadata": {},
     "output_type": "execute_result"
    }
   ],
   "source": [
    "df"
   ]
  },
  {
   "cell_type": "code",
   "execution_count": 8,
   "id": "8bda11da",
   "metadata": {
    "execution": {
     "iopub.execute_input": "2022-10-26T14:25:35.621065Z",
     "iopub.status.busy": "2022-10-26T14:25:35.620749Z",
     "iopub.status.idle": "2022-10-26T14:25:35.635933Z",
     "shell.execute_reply": "2022-10-26T14:25:35.634807Z",
     "shell.execute_reply.started": "2022-10-26T14:25:35.621037Z"
    }
   },
   "outputs": [],
   "source": [
    "df.drop(df.columns[[0,1,2,3]], axis=1, inplace=True)"
   ]
  },
  {
   "cell_type": "code",
   "execution_count": 9,
   "id": "feb48c61",
   "metadata": {
    "execution": {
     "iopub.execute_input": "2022-10-26T14:25:35.638369Z",
     "iopub.status.busy": "2022-10-26T14:25:35.637980Z",
     "iopub.status.idle": "2022-10-26T14:25:35.652248Z",
     "shell.execute_reply": "2022-10-26T14:25:35.651131Z",
     "shell.execute_reply.started": "2022-10-26T14:25:35.638329Z"
    }
   },
   "outputs": [
    {
     "data": {
      "text/html": [
       "<div>\n",
       "<style scoped>\n",
       "    .dataframe tbody tr th:only-of-type {\n",
       "        vertical-align: middle;\n",
       "    }\n",
       "\n",
       "    .dataframe tbody tr th {\n",
       "        vertical-align: top;\n",
       "    }\n",
       "\n",
       "    .dataframe thead th {\n",
       "        text-align: right;\n",
       "    }\n",
       "</style>\n",
       "<table border=\"1\" class=\"dataframe\">\n",
       "  <thead>\n",
       "    <tr style=\"text-align: right;\">\n",
       "      <th></th>\n",
       "      <th>label</th>\n",
       "      <th>news</th>\n",
       "    </tr>\n",
       "  </thead>\n",
       "  <tbody>\n",
       "    <tr>\n",
       "      <th>0</th>\n",
       "      <td>1</td>\n",
       "      <td>House Dem Aide: We Didn’t Even See Comey’s Let...</td>\n",
       "    </tr>\n",
       "    <tr>\n",
       "      <th>1</th>\n",
       "      <td>0</td>\n",
       "      <td>FLYNN: Hillary Clinton, Big Woman on Campus - ...</td>\n",
       "    </tr>\n",
       "    <tr>\n",
       "      <th>2</th>\n",
       "      <td>1</td>\n",
       "      <td>Why the Truth Might Get You Fired. Why the Tru...</td>\n",
       "    </tr>\n",
       "    <tr>\n",
       "      <th>3</th>\n",
       "      <td>1</td>\n",
       "      <td>15 Civilians Killed In Single US Airstrike Hav...</td>\n",
       "    </tr>\n",
       "    <tr>\n",
       "      <th>4</th>\n",
       "      <td>1</td>\n",
       "      <td>Iranian woman jailed for fictional unpublished...</td>\n",
       "    </tr>\n",
       "    <tr>\n",
       "      <th>...</th>\n",
       "      <td>...</td>\n",
       "      <td>...</td>\n",
       "    </tr>\n",
       "    <tr>\n",
       "      <th>25995</th>\n",
       "      <td>0</td>\n",
       "      <td>The Bangladeshi Traffic Jam That Never Ends - ...</td>\n",
       "    </tr>\n",
       "    <tr>\n",
       "      <th>25996</th>\n",
       "      <td>1</td>\n",
       "      <td>John Kasich Signs One Abortion Bill in Ohio bu...</td>\n",
       "    </tr>\n",
       "    <tr>\n",
       "      <th>25997</th>\n",
       "      <td>0</td>\n",
       "      <td>California Today: What, Exactly, Is in Your Su...</td>\n",
       "    </tr>\n",
       "    <tr>\n",
       "      <th>25998</th>\n",
       "      <td>1</td>\n",
       "      <td>300 US Marines To Be Deployed To Russian Borde...</td>\n",
       "    </tr>\n",
       "    <tr>\n",
       "      <th>25999</th>\n",
       "      <td>0</td>\n",
       "      <td>Awkward Sex, Onscreen and Off - The New York T...</td>\n",
       "    </tr>\n",
       "  </tbody>\n",
       "</table>\n",
       "<p>26000 rows × 2 columns</p>\n",
       "</div>"
      ],
      "text/plain": [
       "       label                                               news\n",
       "0          1  House Dem Aide: We Didn’t Even See Comey’s Let...\n",
       "1          0  FLYNN: Hillary Clinton, Big Woman on Campus - ...\n",
       "2          1  Why the Truth Might Get You Fired. Why the Tru...\n",
       "3          1  15 Civilians Killed In Single US Airstrike Hav...\n",
       "4          1  Iranian woman jailed for fictional unpublished...\n",
       "...      ...                                                ...\n",
       "25995      0  The Bangladeshi Traffic Jam That Never Ends - ...\n",
       "25996      1  John Kasich Signs One Abortion Bill in Ohio bu...\n",
       "25997      0  California Today: What, Exactly, Is in Your Su...\n",
       "25998      1  300 US Marines To Be Deployed To Russian Borde...\n",
       "25999      0  Awkward Sex, Onscreen and Off - The New York T...\n",
       "\n",
       "[26000 rows x 2 columns]"
      ]
     },
     "execution_count": 9,
     "metadata": {},
     "output_type": "execute_result"
    }
   ],
   "source": [
    "df"
   ]
  },
  {
   "cell_type": "code",
   "execution_count": 10,
   "id": "f1241a32",
   "metadata": {
    "execution": {
     "iopub.execute_input": "2022-10-26T14:25:35.654281Z",
     "iopub.status.busy": "2022-10-26T14:25:35.653921Z",
     "iopub.status.idle": "2022-10-26T14:25:35.665401Z",
     "shell.execute_reply": "2022-10-26T14:25:35.664360Z",
     "shell.execute_reply.started": "2022-10-26T14:25:35.654244Z"
    }
   },
   "outputs": [],
   "source": [
    "df = df.dropna()"
   ]
  },
  {
   "cell_type": "code",
   "execution_count": 11,
   "id": "470cb664",
   "metadata": {
    "execution": {
     "iopub.execute_input": "2022-10-26T14:25:35.667465Z",
     "iopub.status.busy": "2022-10-26T14:25:35.667080Z",
     "iopub.status.idle": "2022-10-26T14:25:35.672384Z",
     "shell.execute_reply": "2022-10-26T14:25:35.671359Z",
     "shell.execute_reply.started": "2022-10-26T14:25:35.667428Z"
    }
   },
   "outputs": [],
   "source": [
    "df.reset_index(drop=True, inplace = True)"
   ]
  },
  {
   "cell_type": "code",
   "execution_count": 12,
   "id": "0ee8bb03",
   "metadata": {
    "execution": {
     "iopub.execute_input": "2022-10-26T14:25:35.674559Z",
     "iopub.status.busy": "2022-10-26T14:25:35.674155Z",
     "iopub.status.idle": "2022-10-26T14:25:35.688929Z",
     "shell.execute_reply": "2022-10-26T14:25:35.687836Z",
     "shell.execute_reply.started": "2022-10-26T14:25:35.674520Z"
    }
   },
   "outputs": [
    {
     "data": {
      "text/html": [
       "<div>\n",
       "<style scoped>\n",
       "    .dataframe tbody tr th:only-of-type {\n",
       "        vertical-align: middle;\n",
       "    }\n",
       "\n",
       "    .dataframe tbody tr th {\n",
       "        vertical-align: top;\n",
       "    }\n",
       "\n",
       "    .dataframe thead th {\n",
       "        text-align: right;\n",
       "    }\n",
       "</style>\n",
       "<table border=\"1\" class=\"dataframe\">\n",
       "  <thead>\n",
       "    <tr style=\"text-align: right;\">\n",
       "      <th></th>\n",
       "      <th>label</th>\n",
       "      <th>news</th>\n",
       "    </tr>\n",
       "  </thead>\n",
       "  <tbody>\n",
       "    <tr>\n",
       "      <th>0</th>\n",
       "      <td>1</td>\n",
       "      <td>House Dem Aide: We Didn’t Even See Comey’s Let...</td>\n",
       "    </tr>\n",
       "    <tr>\n",
       "      <th>1</th>\n",
       "      <td>0</td>\n",
       "      <td>FLYNN: Hillary Clinton, Big Woman on Campus - ...</td>\n",
       "    </tr>\n",
       "    <tr>\n",
       "      <th>2</th>\n",
       "      <td>1</td>\n",
       "      <td>Why the Truth Might Get You Fired. Why the Tru...</td>\n",
       "    </tr>\n",
       "    <tr>\n",
       "      <th>3</th>\n",
       "      <td>1</td>\n",
       "      <td>15 Civilians Killed In Single US Airstrike Hav...</td>\n",
       "    </tr>\n",
       "    <tr>\n",
       "      <th>4</th>\n",
       "      <td>1</td>\n",
       "      <td>Iranian woman jailed for fictional unpublished...</td>\n",
       "    </tr>\n",
       "    <tr>\n",
       "      <th>...</th>\n",
       "      <td>...</td>\n",
       "      <td>...</td>\n",
       "    </tr>\n",
       "    <tr>\n",
       "      <th>25269</th>\n",
       "      <td>0</td>\n",
       "      <td>The Bangladeshi Traffic Jam That Never Ends - ...</td>\n",
       "    </tr>\n",
       "    <tr>\n",
       "      <th>25270</th>\n",
       "      <td>1</td>\n",
       "      <td>John Kasich Signs One Abortion Bill in Ohio bu...</td>\n",
       "    </tr>\n",
       "    <tr>\n",
       "      <th>25271</th>\n",
       "      <td>0</td>\n",
       "      <td>California Today: What, Exactly, Is in Your Su...</td>\n",
       "    </tr>\n",
       "    <tr>\n",
       "      <th>25272</th>\n",
       "      <td>1</td>\n",
       "      <td>300 US Marines To Be Deployed To Russian Borde...</td>\n",
       "    </tr>\n",
       "    <tr>\n",
       "      <th>25273</th>\n",
       "      <td>0</td>\n",
       "      <td>Awkward Sex, Onscreen and Off - The New York T...</td>\n",
       "    </tr>\n",
       "  </tbody>\n",
       "</table>\n",
       "<p>25274 rows × 2 columns</p>\n",
       "</div>"
      ],
      "text/plain": [
       "       label                                               news\n",
       "0          1  House Dem Aide: We Didn’t Even See Comey’s Let...\n",
       "1          0  FLYNN: Hillary Clinton, Big Woman on Campus - ...\n",
       "2          1  Why the Truth Might Get You Fired. Why the Tru...\n",
       "3          1  15 Civilians Killed In Single US Airstrike Hav...\n",
       "4          1  Iranian woman jailed for fictional unpublished...\n",
       "...      ...                                                ...\n",
       "25269      0  The Bangladeshi Traffic Jam That Never Ends - ...\n",
       "25270      1  John Kasich Signs One Abortion Bill in Ohio bu...\n",
       "25271      0  California Today: What, Exactly, Is in Your Su...\n",
       "25272      1  300 US Marines To Be Deployed To Russian Borde...\n",
       "25273      0  Awkward Sex, Onscreen and Off - The New York T...\n",
       "\n",
       "[25274 rows x 2 columns]"
      ]
     },
     "execution_count": 12,
     "metadata": {},
     "output_type": "execute_result"
    }
   ],
   "source": [
    "df"
   ]
  },
  {
   "cell_type": "code",
   "execution_count": 13,
   "id": "99bda344",
   "metadata": {
    "execution": {
     "iopub.execute_input": "2022-10-26T14:25:35.695614Z",
     "iopub.status.busy": "2022-10-26T14:25:35.695344Z",
     "iopub.status.idle": "2022-10-26T14:25:35.701234Z",
     "shell.execute_reply": "2022-10-26T14:25:35.700018Z",
     "shell.execute_reply.started": "2022-10-26T14:25:35.695589Z"
    },
    "scrolled": false
   },
   "outputs": [
    {
     "name": "stdout",
     "output_type": "stream",
     "text": [
      "News 1: \n",
      "\n",
      "House Dem Aide: We Didn’t Even See Comey’s Letter Until Jason Chaffetz Tweeted It. House Dem Aide: We Didn’t Even See Comey’s Letter Until Jason Chaffetz Tweeted It By Darrell Lucus on October 30, 2016 Subscribe Jason Chaffetz on the stump in American Fork, Utah ( image courtesy Michael Jolley, available under a Creative Commons-BY license) \n",
      "With apologies to Keith Olbermann, there is no doubt who the Worst Person in The World is this week–FBI Director James Comey. But according to a House Democratic aide, it looks like we also know who the second-worst person is as well. It turns out that when Comey sent his now-infamous letter announcing that the FBI was looking into emails that may be related to Hillary Clinton’s email server, the ranking Democrats on the relevant committees didn’t hear about it from Comey. They found out via a tweet from one of the Republican committee chairmen. \n",
      "As we now know, Comey notified the Republican chairmen and Democratic ranking members of the House Intelligence, Judiciary, and Oversight committees that his agency was reviewing emails it had recently discovered in order to see if they contained classified information. Not long after this letter went out, Oversight Committee Chairman Jason Chaffetz set the political world ablaze with this tweet. FBI Dir just informed me, \"The FBI has learned of the existence of emails that appear to be pertinent to the investigation.\" Case reopened \n",
      "— Jason Chaffetz (@jasoninthehouse) October 28, 2016 \n",
      "Of course, we now know that this was not the case . Comey was actually saying that it was reviewing the emails in light of “an unrelated case”–which we now know to be Anthony Weiner’s sexting with a teenager. But apparently such little things as facts didn’t matter to Chaffetz. The Utah Republican had already vowed to initiate a raft of investigations if Hillary wins–at least two years’ worth, and possibly an entire term’s worth of them. Apparently Chaffetz thought the FBI was already doing his work for him–resulting in a tweet that briefly roiled the nation before cooler heads realized it was a dud. \n",
      "But according to a senior House Democratic aide, misreading that letter may have been the least of Chaffetz’ sins. That aide told Shareblue that his boss and other Democrats didn’t even know about Comey’s letter at the time–and only found out when they checked Twitter. “Democratic Ranking Members on the relevant committees didn’t receive Comey’s letter until after the Republican Chairmen. In fact, the Democratic Ranking Members didn’ receive it until after the Chairman of the Oversight and Government Reform Committee, Jason Chaffetz, tweeted it out and made it public.” \n",
      "So let’s see if we’ve got this right. The FBI director tells Chaffetz and other GOP committee chairmen about a major development in a potentially politically explosive investigation, and neither Chaffetz nor his other colleagues had the courtesy to let their Democratic counterparts know about it. Instead, according to this aide, he made them find out about it on Twitter. \n",
      "There has already been talk on Daily Kos that Comey himself provided advance notice of this letter to Chaffetz and other Republicans, giving them time to turn on the spin machine. That may make for good theater, but there is nothing so far that even suggests this is the case. After all, there is nothing so far that suggests that Comey was anything other than grossly incompetent and tone-deaf. \n",
      "What it does suggest, however, is that Chaffetz is acting in a way that makes Dan Burton and Darrell Issa look like models of responsibility and bipartisanship. He didn’t even have the decency to notify ranking member Elijah Cummings about something this explosive. If that doesn’t trample on basic standards of fairness, I don’t know what does. \n",
      "Granted, it’s not likely that Chaffetz will have to answer for this. He sits in a ridiculously Republican district anchored in Provo and Orem; it has a Cook Partisan Voting Index of R+25, and gave Mitt Romney a punishing 78 percent of the vote in 2012. Moreover, the Republican House leadership has given its full support to Chaffetz’ planned fishing expedition. But that doesn’t mean we can’t turn the hot lights on him. After all, he is a textbook example of what the House has become under Republican control. And he is also the Second Worst Person in the World. About Darrell Lucus \n",
      "Darrell is a 30-something graduate of the University of North Carolina who considers himself a journalist of the old school. An attempt to turn him into a member of the religious right in college only succeeded in turning him into the religious right's worst nightmare--a charismatic Christian who is an unapologetic liberal. His desire to stand up for those who have been scared into silence only increased when he survived an abusive three-year marriage. You may know him on Daily Kos as Christian Dem in NC . Follow him on Twitter @DarrellLucus or connect with him on Facebook . Click here to buy Darrell a Mello Yello. Connect\n",
      "\n",
      "News 2: \n",
      "\n",
      "FLYNN: Hillary Clinton, Big Woman on Campus - Breitbart. Ever get the feeling your life circles the roundabout rather than heads in a straight line toward the intended destination? [Hillary Clinton remains the big woman on campus in leafy, liberal Wellesley, Massachusetts. Everywhere else votes her most likely to don her inauguration dress for the remainder of her days the way Miss Havisham forever wore that wedding dress.  Speaking of Great Expectations, Hillary Rodham overflowed with them 48 years ago when she first addressed a Wellesley graduating class. The president of the college informed those gathered in 1969 that the students needed “no debate so far as I could ascertain as to who their spokesman was to be” (kind of the like the Democratic primaries in 2016 minus the   terms unknown then even at a Seven Sisters school). “I am very glad that Miss Adams made it clear that what I am speaking for today is all of us —  the 400 of us,” Miss Rodham told her classmates. After appointing herself Edger Bergen to the Charlie McCarthys and Mortimer Snerds in attendance, the    bespectacled in granny glasses (awarding her matronly wisdom —  or at least John Lennon wisdom) took issue with the previous speaker. Despite becoming the first   to win election to a seat in the U. S. Senate since Reconstruction, Edward Brooke came in for criticism for calling for “empathy” for the goals of protestors as he criticized tactics. Though Clinton in her senior thesis on Saul Alinsky lamented “Black Power demagogues” and “elitist arrogance and repressive intolerance” within the New Left, similar words coming out of a Republican necessitated a brief rebuttal. “Trust,” Rodham ironically observed in 1969, “this is one word that when I asked the class at our rehearsal what it was they wanted me to say for them, everyone came up to me and said ‘Talk about trust, talk about the lack of trust both for us and the way we feel about others. Talk about the trust bust.’ What can you say about it? What can you say about a feeling that permeates a generation and that perhaps is not even understood by those who are distrusted?” The “trust bust” certainly busted Clinton’s 2016 plans. She certainly did not even understand that people distrusted her. After Whitewater, Travelgate, the vast   conspiracy, Benghazi, and the missing emails, Clinton found herself the distrusted voice on Friday. There was a load of compromising on the road to the broadening of her political horizons. And distrust from the American people —  Trump edged her 48 percent to 38 percent on the question immediately prior to November’s election —  stood as a major reason for the closing of those horizons. Clinton described her vanquisher and his supporters as embracing a “lie,” a “con,” “alternative facts,” and “a   assault on truth and reason. ” She failed to explain why the American people chose his lies over her truth. “As the history majors among you here today know all too well, when people in power invent their own facts and attack those who question them, it can mark the beginning of the end of a free society,” she offered. “That is not hyperbole. ” Like so many people to emerge from the 1960s, Hillary Clinton embarked upon a long, strange trip. From high school Goldwater Girl and Wellesley College Republican president to Democratic politician, Clinton drank in the times and the place that gave her a degree. More significantly, she went from idealist to cynic, as a comparison of her two Wellesley commencement addresses show. Way back when, she lamented that “for too long our leaders have viewed politics as the art of the possible, and the challenge now is to practice politics as the art of making what appears to be impossible possible. ” Now, as the big woman on campus but the odd woman out of the White House, she wonders how her current station is even possible. “Why aren’t I 50 points ahead?” she asked in September. In May she asks why she isn’t president. The woman famously dubbed a “congenital liar” by Bill Safire concludes that lies did her in —  theirs, mind you, not hers. Getting stood up on Election Day, like finding yourself the jilted bride on your wedding day, inspires dangerous delusions.\n",
      "\n",
      "News 3: \n",
      "\n",
      "Why the Truth Might Get You Fired. Why the Truth Might Get You Fired October 29, 2016 \n",
      "The tension between intelligence analysts and political policymakers has always been between honest assessments and desired results, with the latter often overwhelming the former, as in the Iraq War, writes Lawrence Davidson. \n",
      "By Lawrence Davidson \n",
      "For those who might wonder why foreign policy makers repeatedly make bad choices, some insight might be drawn from the following analysis. The action here plays out in the United States, but the lessons are probably universal. \n",
      "Back in the early spring of 2003, George W. Bush initiated the invasion of Iraq. One of his key public reasons for doing so was the claim that the country’s dictator, Saddam Hussein, was on the verge of developing nuclear weapons and was hiding other weapons of mass destruction. The real reason went beyond that charge and included a long-range plan for “regime change” in the Middle East. President George W. Bush and Vice President Dick Cheney receive an Oval Office briefing from CIA Director George Tenet. Also present is Chief of Staff Andy Card (on right). (White House photo) \n",
      "For our purposes, we will concentrate on the belief that Iraq was about to become a hostile nuclear power. Why did President Bush and his close associates accept this scenario so readily? \n",
      "The short answer is Bush wanted, indeed needed, to believe it as a rationale for invading Iraq. At first he had tried to connect Saddam Hussein to the 9/11 attacks on the U.S. Though he never gave up on that stratagem, the lack of evidence made it difficult to rally an American people, already fixated on Afghanistan, to support a war against Baghdad. \n",
      "But the nuclear weapons gambit proved more fruitful, not because there was any hard evidence for the charge, but because supposedly reliable witnesses, in the persons of exiled anti-Saddam Iraqis (many on the U.S. government’s payroll ), kept telling Bush and his advisers that the nuclear story was true. \n",
      "What we had was a U.S. leadership cadre whose worldview literally demanded a mortally dangerous Iraq, and informants who, in order to precipitate the overthrow of Saddam, were willing to tell the tale of pending atomic weapons. The strong desire to believe the tale of a nuclear Iraq lowered the threshold for proof . Likewise, the repeated assertions by assumed dependable Iraqi sources underpinned a nationwide U.S. campaign generating both fear and war fever. \n",
      "So the U.S. and its allies insisted that the United Nations send in weapons inspectors to scour Iraq for evidence of a nuclear weapons program (as well as chemical and biological weapons). That the inspectors could find no convincing evidence only frustrated the Bush administration and soon forced its hand. \n",
      "On March 19, 2003, Bush launched the invasion of Iraq with the expectation was that, once in occupation of the country, U.S. inspectors would surely find evidence of those nukes (or at least stockpiles of chemical and biological weapons). They did not. Their Iraqi informants had systematically lied to them. \n",
      "Social and Behavioral Sciences to the Rescue? \n",
      "The various U.S. intelligence agencies were thoroughly shaken by this affair, and today, 13 years later, their directors and managers are still trying to sort it out – specifically, how to tell when they are getting “true” intelligence and when they are being lied to. Or, as one intelligence worker has put it, we need “ help to protect us against armies of snake oil salesmen. ” To that end the CIA et al. are in the market for academic assistance. Ahmed Chalabi, head of the Iraqi National Congress, a key supplier of Iraqi defectors with bogus stories of hidden WMD. \n",
      "A “partnership” is being forged between the Office of the Director of National Intelligence (ODNI), which serves as the coordinating center for the sixteen independent U.S. intelligence agencies, and the National Academies of Sciences, Engineering and Medicine . The result of this collaboration will be a “ permanent Intelligence Community Studies Board” to coordinate programs in “social and behavioral science research [that] might strengthen national security .” \n",
      "Despite this effort, it is almost certain that the “social and behavioral sciences” cannot give the spy agencies what they want – a way of detecting lies that is better than their present standard procedures of polygraph tests and interrogations. But even if they could, it might well make no difference, because the real problem is not to be found with the liars. It is to be found with the believers. \n",
      "The Believers \n",
      "It is simply not true, as the ODNI leaders seem to assert, that U.S. intelligence agency personnel cannot tell, more often than not, that they are being lied to. This is the case because there are thousands of middle-echelon intelligence workers, desk officers, and specialists who know something closely approaching the truth – that is, they know pretty well what is going on in places like Afghanistan, Iraq, Syria, Libya, Israel, Palestine and elsewhere. Director of National Intelligence James Clapper (right) talks with President Barack Obama in the Oval Office, with John Brennan and other national security aides present. (Photo credit: Office of Director of National Intelligence) \n",
      "Therefore, if someone feeds them “snake oil,” they usually know it. However, having an accurate grasp of things is often to no avail because their superiors – those who got their appointments by accepting a pre-structured worldview – have different criterion for what is “true” than do the analysts. \n",
      "Listen to Charles Gaukel, of the National Intelligence Council – yet another organization that acts as a meeting ground for the 16 intelligence agencies. Referring to the search for a way to avoid getting taken in by lies, Gaukel has declared, “ We’re looking for truth. But we’re particularly looking for truth that works. ” Now what might that mean? \n",
      "I can certainly tell you what it means historically. It means that for the power brokers, “truth” must match up, fit with, their worldview – their political and ideological precepts. If it does not fit, it does not “work.” So the intelligence specialists who send their usually accurate assessments up the line to the policy makers often hit a roadblock caused by “group think,” ideological blinkers, and a “we know better” attitude. \n",
      "On the other hand, as long as what you’re selling the leadership matches up with what they want to believe, you can peddle them anything: imaginary Iraqi nukes, Israel as a Western-style democracy, Saudi Arabia as an indispensable ally, Libya as a liberated country, Bashar al-Assad as the real roadblock to peace in Syria, the Strategic Defense Initiative (SDI) aka Star Wars, a world that is getting colder and not warmer, American exceptionalism in all its glory – the list is almost endless. \n",
      "What does this sad tale tell us? If you want to spend millions of dollars on social and behavioral science research to improve the assessment and use of intelligence, forget about the liars. What you want to look for is an antidote to the narrow-mindedness of the believers – the policymakers who seem not to be able to rise above the ideological presumptions of their class – presumptions that underpin their self-confidence as they lead us all down slippery slopes. \n",
      "It has happened this way so often, and in so many places, that it is the source of Shakespeare’s determination that “what is past, is prelude.” Our elites play out our destinies as if they have no free will – no capacity to break with structured ways of seeing. Yet the middle-echelon specialists keep sending their relatively accurate assessments up the ladder of power. Hope springs eternal.\n",
      "\n",
      "News 4: \n",
      "\n",
      "15 Civilians Killed In Single US Airstrike Have Been Identified. Videos 15 Civilians Killed In Single US Airstrike Have Been Identified The rate at which civilians are being killed by American airstrikes in Afghanistan is now higher than it was in 2014 when the US was engaged in active combat operations.   Photo of Hellfire missiles being loaded onto a US military Reaper drone in Afghanistan by Staff Sgt. Brian Ferguson/U.S. Air Force. \n",
      "The Bureau has been able to identify 15 civilians killed in a single US drone strike in Afghanistan last month – the biggest loss of civilian life in one strike since the attack on the Medecins Sans Frontieres hospital (MSF) last October. \n",
      "The US claimed it had conducted a “counter-terrorism” strike against Islamic State (IS) fighters when it hit Nangarhar province with missiles on September 28. But the next day the United Nations issued an unusually rapid and strong statement saying the strike had killed 15 civilians and injured 13 others who had gathered at a house to celebrate a tribal elder’s return from a pilgrimage to Mecca. \n",
      "The Bureau spoke to a man named Haji Rais who said he was the owner of the house that was targeted. He said 15 people were killed and 19 others injured, and provided their names (listed below). The Bureau was able to independently verify the identities of those who died. \n",
      "Rais’ son, a headmaster at a local school, was among them. Another man, Abdul Hakim, lost three of his sons in the attack. \n",
      "Rais said he had no involvement with IS and denied US claims that IS members had visited his house before the strike. He said: “I did not even speak to those sort of people on the phone let alone receiving them in my house.” \n",
      "The deaths amount to the biggest confirmed loss of civilian life in a single American strike in Afghanistan since the attack on the MSF hospital in Kunduz last October, which killed at least 42 people. \n",
      "The Nangarhar strike was not the only US attack to kill civilians in September. The Bureau’s data indicates that as many as 45 civilians and allied soldiers were killed in four American strikes in Afghanistan and Somalia that month. \n",
      "On September 18 a pair of strikes killed eight Afghan policemen in Tarinkot, the capital of Urozgan provice. US jets reportedly hit a police checkpoint, killing one officer, before returning to target first responders. The use of this tactic – known as a “double-tap” strike – is controversial because they often hit civilian rescuers. \n",
      "The US told the Bureau it had conducted the strike against individuals firing on and posing a threat to Afghan forces. The email did not directly address the allegations of Afghan policemen being killed. \n",
      "At the end of the month in Somalia, citizens burnt US flags on the streets of the north-central city of Galcayo after it emerged a drone attack may have unintentionally killed 22 Somali soldiers and civilians. The strike occurred on the same day as the one in Nangarhar. \n",
      "In both the Somali and Afghan incidents, the US at first denied that any non-combatants had been killed. It is now investigating both the strikes in Nangarhar and Galcayo. \n",
      "The rate at which civilians are being killed by American airstrikes in Afghanistan is now higher than it was in 2014 when the US was engaged in active combat operations. Name\n",
      "\n",
      "News 5: \n",
      "\n",
      "Iranian woman jailed for fictional unpublished story about woman stoned to death for adultery. Print \n",
      "An Iranian woman has been sentenced to six years in prison after Iran’s Revolutionary Guard searched her home and found a notebook that contained a fictional story she’d written about a woman who was stoned to death, according to the Eurasia Review . \n",
      "Golrokh Ebrahimi Iraee, 35, is the wife of political prisoner Arash Sadeghi, 36, who is serving a 19-year prison sentence for being a human rights activist, the publication reported. \n",
      "“When the intelligence unit of the Revolutionary Guards came to arrest her husband, they raided their apartment – without a warrant – and found drafts of stories that Ebrahimi Iraee had written,” the article stated. \n",
      "“One of the confiscated drafts was a story about stoning women to death for adultery – never published, never presented to anyone,” the article stated. “The narrative followed the story of a protagonist that watched a movie about stoning of women under Islamic law for adultery.\n",
      "\n"
     ]
    }
   ],
   "source": [
    "for i in range(0,5):\n",
    "    print(f\"News {i+1}: \\n\")\n",
    "    print(df[\"news\"][i] +\"\\n\")"
   ]
  },
  {
   "cell_type": "code",
   "execution_count": 14,
   "id": "5b1586c3",
   "metadata": {
    "execution": {
     "iopub.execute_input": "2022-10-26T14:25:35.703218Z",
     "iopub.status.busy": "2022-10-26T14:25:35.702877Z",
     "iopub.status.idle": "2022-10-26T14:25:35.723284Z",
     "shell.execute_reply": "2022-10-26T14:25:35.722222Z",
     "shell.execute_reply.started": "2022-10-26T14:25:35.703183Z"
    }
   },
   "outputs": [
    {
     "data": {
      "text/html": [
       "<div>\n",
       "<style scoped>\n",
       "    .dataframe tbody tr th:only-of-type {\n",
       "        vertical-align: middle;\n",
       "    }\n",
       "\n",
       "    .dataframe tbody tr th {\n",
       "        vertical-align: top;\n",
       "    }\n",
       "\n",
       "    .dataframe thead th {\n",
       "        text-align: right;\n",
       "    }\n",
       "</style>\n",
       "<table border=\"1\" class=\"dataframe\">\n",
       "  <thead>\n",
       "    <tr style=\"text-align: right;\">\n",
       "      <th></th>\n",
       "      <th>news</th>\n",
       "    </tr>\n",
       "    <tr>\n",
       "      <th>label</th>\n",
       "      <th></th>\n",
       "    </tr>\n",
       "  </thead>\n",
       "  <tbody>\n",
       "    <tr>\n",
       "      <th>0</th>\n",
       "      <td>12721</td>\n",
       "    </tr>\n",
       "    <tr>\n",
       "      <th>1</th>\n",
       "      <td>12553</td>\n",
       "    </tr>\n",
       "  </tbody>\n",
       "</table>\n",
       "</div>"
      ],
      "text/plain": [
       "        news\n",
       "label       \n",
       "0      12721\n",
       "1      12553"
      ]
     },
     "execution_count": 14,
     "metadata": {},
     "output_type": "execute_result"
    }
   ],
   "source": [
    "df.groupby(df[\"label\"]).count()"
   ]
  },
  {
   "cell_type": "markdown",
   "id": "f5dfdc21",
   "metadata": {},
   "source": [
    "#### Dataset is balanced"
   ]
  },
  {
   "cell_type": "code",
   "execution_count": 15,
   "id": "007bd054",
   "metadata": {
    "execution": {
     "iopub.execute_input": "2022-10-26T14:25:35.725207Z",
     "iopub.status.busy": "2022-10-26T14:25:35.724750Z",
     "iopub.status.idle": "2022-10-26T14:25:35.731351Z",
     "shell.execute_reply": "2022-10-26T14:25:35.730256Z",
     "shell.execute_reply.started": "2022-10-26T14:25:35.725167Z"
    }
   },
   "outputs": [],
   "source": [
    "X=df.drop('label',axis=1)"
   ]
  },
  {
   "cell_type": "code",
   "execution_count": 16,
   "id": "c6dabb08",
   "metadata": {
    "execution": {
     "iopub.execute_input": "2022-10-26T14:25:35.733549Z",
     "iopub.status.busy": "2022-10-26T14:25:35.733008Z",
     "iopub.status.idle": "2022-10-26T14:25:35.740223Z",
     "shell.execute_reply": "2022-10-26T14:25:35.738893Z",
     "shell.execute_reply.started": "2022-10-26T14:25:35.733485Z"
    }
   },
   "outputs": [],
   "source": [
    "y=df['label']"
   ]
  },
  {
   "cell_type": "code",
   "execution_count": 17,
   "id": "ec26764a",
   "metadata": {
    "execution": {
     "iopub.execute_input": "2022-10-26T14:25:35.742832Z",
     "iopub.status.busy": "2022-10-26T14:25:35.742135Z",
     "iopub.status.idle": "2022-10-26T14:25:35.751010Z",
     "shell.execute_reply": "2022-10-26T14:25:35.749688Z",
     "shell.execute_reply.started": "2022-10-26T14:25:35.742755Z"
    }
   },
   "outputs": [
    {
     "data": {
      "text/plain": [
       "(25274, 1)"
      ]
     },
     "execution_count": 17,
     "metadata": {},
     "output_type": "execute_result"
    }
   ],
   "source": [
    "X.shape"
   ]
  },
  {
   "cell_type": "code",
   "execution_count": 18,
   "id": "6386882a",
   "metadata": {
    "execution": {
     "iopub.execute_input": "2022-10-26T14:25:35.753184Z",
     "iopub.status.busy": "2022-10-26T14:25:35.752555Z",
     "iopub.status.idle": "2022-10-26T14:25:35.760478Z",
     "shell.execute_reply": "2022-10-26T14:25:35.759363Z",
     "shell.execute_reply.started": "2022-10-26T14:25:35.753148Z"
    }
   },
   "outputs": [
    {
     "data": {
      "text/plain": [
       "(25274,)"
      ]
     },
     "execution_count": 18,
     "metadata": {},
     "output_type": "execute_result"
    }
   ],
   "source": [
    "y.shape"
   ]
  },
  {
   "cell_type": "code",
   "execution_count": 19,
   "id": "842aa277",
   "metadata": {
    "execution": {
     "iopub.execute_input": "2022-10-26T14:25:35.763792Z",
     "iopub.status.busy": "2022-10-26T14:25:35.763502Z",
     "iopub.status.idle": "2022-10-26T14:25:35.769776Z",
     "shell.execute_reply": "2022-10-26T14:25:35.768740Z",
     "shell.execute_reply.started": "2022-10-26T14:25:35.763738Z"
    }
   },
   "outputs": [],
   "source": [
    "messages=X.copy()"
   ]
  },
  {
   "cell_type": "code",
   "execution_count": 20,
   "id": "31ee86c9",
   "metadata": {
    "execution": {
     "iopub.execute_input": "2022-10-26T14:25:35.771870Z",
     "iopub.status.busy": "2022-10-26T14:25:35.771254Z",
     "iopub.status.idle": "2022-10-26T14:25:35.781460Z",
     "shell.execute_reply": "2022-10-26T14:25:35.780779Z",
     "shell.execute_reply.started": "2022-10-26T14:25:35.771832Z"
    }
   },
   "outputs": [
    {
     "data": {
      "text/plain": [
       "'House Dem Aide: We Didn’t Even See Comey’s Letter Until Jason Chaffetz Tweeted It. House Dem Aide: We Didn’t Even See Comey’s Letter Until Jason Chaffetz Tweeted It By Darrell Lucus on October 30, 2016 Subscribe Jason Chaffetz on the stump in American Fork, Utah ( image courtesy Michael Jolley, available under a Creative Commons-BY license) \\nWith apologies to Keith Olbermann, there is no doubt who the Worst Person in The World is this week–FBI Director James Comey. But according to a House Democratic aide, it looks like we also know who the second-worst person is as well. It turns out that when Comey sent his now-infamous letter announcing that the FBI was looking into emails that may be related to Hillary Clinton’s email server, the ranking Democrats on the relevant committees didn’t hear about it from Comey. They found out via a tweet from one of the Republican committee chairmen. \\nAs we now know, Comey notified the Republican chairmen and Democratic ranking members of the House Intelligence, Judiciary, and Oversight committees that his agency was reviewing emails it had recently discovered in order to see if they contained classified information. Not long after this letter went out, Oversight Committee Chairman Jason Chaffetz set the political world ablaze with this tweet. FBI Dir just informed me, \"The FBI has learned of the existence of emails that appear to be pertinent to the investigation.\" Case reopened \\n— Jason Chaffetz (@jasoninthehouse) October 28, 2016 \\nOf course, we now know that this was not the case . Comey was actually saying that it was reviewing the emails in light of “an unrelated case”–which we now know to be Anthony Weiner’s sexting with a teenager. But apparently such little things as facts didn’t matter to Chaffetz. The Utah Republican had already vowed to initiate a raft of investigations if Hillary wins–at least two years’ worth, and possibly an entire term’s worth of them. Apparently Chaffetz thought the FBI was already doing his work for him–resulting in a tweet that briefly roiled the nation before cooler heads realized it was a dud. \\nBut according to a senior House Democratic aide, misreading that letter may have been the least of Chaffetz’ sins. That aide told Shareblue that his boss and other Democrats didn’t even know about Comey’s letter at the time–and only found out when they checked Twitter. “Democratic Ranking Members on the relevant committees didn’t receive Comey’s letter until after the Republican Chairmen. In fact, the Democratic Ranking Members didn’ receive it until after the Chairman of the Oversight and Government Reform Committee, Jason Chaffetz, tweeted it out and made it public.” \\nSo let’s see if we’ve got this right. The FBI director tells Chaffetz and other GOP committee chairmen about a major development in a potentially politically explosive investigation, and neither Chaffetz nor his other colleagues had the courtesy to let their Democratic counterparts know about it. Instead, according to this aide, he made them find out about it on Twitter. \\nThere has already been talk on Daily Kos that Comey himself provided advance notice of this letter to Chaffetz and other Republicans, giving them time to turn on the spin machine. That may make for good theater, but there is nothing so far that even suggests this is the case. After all, there is nothing so far that suggests that Comey was anything other than grossly incompetent and tone-deaf. \\nWhat it does suggest, however, is that Chaffetz is acting in a way that makes Dan Burton and Darrell Issa look like models of responsibility and bipartisanship. He didn’t even have the decency to notify ranking member Elijah Cummings about something this explosive. If that doesn’t trample on basic standards of fairness, I don’t know what does. \\nGranted, it’s not likely that Chaffetz will have to answer for this. He sits in a ridiculously Republican district anchored in Provo and Orem; it has a Cook Partisan Voting Index of R+25, and gave Mitt Romney a punishing 78 percent of the vote in 2012. Moreover, the Republican House leadership has given its full support to Chaffetz’ planned fishing expedition. But that doesn’t mean we can’t turn the hot lights on him. After all, he is a textbook example of what the House has become under Republican control. And he is also the Second Worst Person in the World. About Darrell Lucus \\nDarrell is a 30-something graduate of the University of North Carolina who considers himself a journalist of the old school. An attempt to turn him into a member of the religious right in college only succeeded in turning him into the religious right\\'s worst nightmare--a charismatic Christian who is an unapologetic liberal. His desire to stand up for those who have been scared into silence only increased when he survived an abusive three-year marriage. You may know him on Daily Kos as Christian Dem in NC . Follow him on Twitter @DarrellLucus or connect with him on Facebook . Click here to buy Darrell a Mello Yello. Connect'"
      ]
     },
     "execution_count": 20,
     "metadata": {},
     "output_type": "execute_result"
    }
   ],
   "source": [
    "messages['news'][0]"
   ]
  },
  {
   "cell_type": "code",
   "execution_count": 21,
   "id": "35cacefb",
   "metadata": {
    "execution": {
     "iopub.execute_input": "2022-10-26T14:25:35.783700Z",
     "iopub.status.busy": "2022-10-26T14:25:35.783076Z",
     "iopub.status.idle": "2022-10-26T14:25:35.790591Z",
     "shell.execute_reply": "2022-10-26T14:25:35.789413Z",
     "shell.execute_reply.started": "2022-10-26T14:25:35.783662Z"
    }
   },
   "outputs": [],
   "source": [
    "messages.reset_index(inplace=True)"
   ]
  },
  {
   "cell_type": "markdown",
   "id": "8126090e",
   "metadata": {},
   "source": [
    "## Dataset Preprocessing"
   ]
  },
  {
   "cell_type": "code",
   "execution_count": 22,
   "id": "f2caee19",
   "metadata": {
    "execution": {
     "iopub.execute_input": "2022-10-26T14:25:35.793652Z",
     "iopub.status.busy": "2022-10-26T14:25:35.792846Z",
     "iopub.status.idle": "2022-10-26T14:25:36.332234Z",
     "shell.execute_reply": "2022-10-26T14:25:36.331260Z",
     "shell.execute_reply.started": "2022-10-26T14:25:35.793614Z"
    }
   },
   "outputs": [],
   "source": [
    "import nltk\n",
    "import re\n",
    "from nltk.stem import WordNetLemmatizer\n",
    "from nltk.corpus import stopwords"
   ]
  },
  {
   "cell_type": "code",
   "execution_count": 23,
   "id": "4822c7e7",
   "metadata": {
    "execution": {
     "iopub.execute_input": "2022-10-26T14:25:36.334029Z",
     "iopub.status.busy": "2022-10-26T14:25:36.333639Z",
     "iopub.status.idle": "2022-10-26T14:25:36.528554Z",
     "shell.execute_reply": "2022-10-26T14:25:36.527469Z",
     "shell.execute_reply.started": "2022-10-26T14:25:36.333992Z"
    }
   },
   "outputs": [
    {
     "name": "stderr",
     "output_type": "stream",
     "text": [
      "[nltk_data] Downloading package stopwords to /usr/share/nltk_data...\n",
      "[nltk_data]   Package stopwords is already up-to-date!\n",
      "[nltk_data] Downloading package omw-1.4 to /usr/share/nltk_data...\n",
      "[nltk_data]   Package omw-1.4 is already up-to-date!\n"
     ]
    },
    {
     "data": {
      "text/plain": [
       "True"
      ]
     },
     "execution_count": 23,
     "metadata": {},
     "output_type": "execute_result"
    }
   ],
   "source": [
    "nltk.download('stopwords')\n",
    "nltk.download('omw-1.4')"
   ]
  },
  {
   "cell_type": "code",
   "execution_count": 25,
   "id": "36eb9384",
   "metadata": {
    "execution": {
     "iopub.execute_input": "2022-10-26T14:25:54.580954Z",
     "iopub.status.busy": "2022-10-26T14:25:54.580574Z",
     "iopub.status.idle": "2022-10-26T15:05:59.966193Z",
     "shell.execute_reply": "2022-10-26T15:05:59.965089Z",
     "shell.execute_reply.started": "2022-10-26T14:25:54.580917Z"
    }
   },
   "outputs": [],
   "source": [
    "lemmatizer = WordNetLemmatizer()\n",
    "corpus = []\n",
    "for i in range(0, len(messages)):\n",
    "#     print(i)\n",
    "    review = re.sub('[^a-zA-Z]', ' ', messages['news'][i])\n",
    "    review = review.lower()\n",
    "    review = review.split()\n",
    "    \n",
    "    review = [lemmatizer.lemmatize(word) for word in review if not word in stopwords.words('english')]\n",
    "    review = ' '.join(review)\n",
    "    corpus.append(review)"
   ]
  },
  {
   "cell_type": "code",
   "execution_count": 26,
   "id": "3b2b8279",
   "metadata": {
    "execution": {
     "iopub.execute_input": "2022-10-26T15:08:33.370612Z",
     "iopub.status.busy": "2022-10-26T15:08:33.370256Z",
     "iopub.status.idle": "2022-10-26T15:08:33.378917Z",
     "shell.execute_reply": "2022-10-26T15:08:33.377798Z",
     "shell.execute_reply.started": "2022-10-26T15:08:33.370579Z"
    }
   },
   "outputs": [
    {
     "data": {
      "text/plain": [
       "'house dem aide even see comey letter jason chaffetz tweeted house dem aide even see comey letter jason chaffetz tweeted darrell lucus october subscribe jason chaffetz stump american fork utah image courtesy michael jolley available creative common license apology keith olbermann doubt worst person world week fbi director james comey according house democratic aide look like also know second worst person well turn comey sent infamous letter announcing fbi looking email may related hillary clinton email server ranking democrat relevant committee hear comey found via tweet one republican committee chairman know comey notified republican chairman democratic ranking member house intelligence judiciary oversight committee agency reviewing email recently discovered order see contained classified information long letter went oversight committee chairman jason chaffetz set political world ablaze tweet fbi dir informed fbi learned existence email appear pertinent investigation case reopened jason chaffetz jasoninthehouse october course know case comey actually saying reviewing email light unrelated case know anthony weiner sexting teenager apparently little thing fact matter chaffetz utah republican already vowed initiate raft investigation hillary win least two year worth possibly entire term worth apparently chaffetz thought fbi already work resulting tweet briefly roiled nation cooler head realized dud according senior house democratic aide misreading letter may least chaffetz sin aide told shareblue bos democrat even know comey letter time found checked twitter democratic ranking member relevant committee receive comey letter republican chairman fact democratic ranking member receive chairman oversight government reform committee jason chaffetz tweeted made public let see got right fbi director tell chaffetz gop committee chairman major development potentially politically explosive investigation neither chaffetz colleague courtesy let democratic counterpart know instead according aide made find twitter already talk daily ko comey provided advance notice letter chaffetz republican giving time turn spin machine may make good theater nothing far even suggests case nothing far suggests comey anything grossly incompetent tone deaf suggest however chaffetz acting way make dan burton darrell issa look like model responsibility bipartisanship even decency notify ranking member elijah cummings something explosive trample basic standard fairness know granted likely chaffetz answer sits ridiculously republican district anchored provo orem cook partisan voting index r gave mitt romney punishing percent vote moreover republican house leadership given full support chaffetz planned fishing expedition mean turn hot light textbook example house become republican control also second worst person world darrell lucus darrell something graduate university north carolina considers journalist old school attempt turn member religious right college succeeded turning religious right worst nightmare charismatic christian unapologetic liberal desire stand scared silence increased survived abusive three year marriage may know daily ko christian dem nc follow twitter darrelllucus connect facebook click buy darrell mello yello connect'"
      ]
     },
     "execution_count": 26,
     "metadata": {},
     "output_type": "execute_result"
    }
   ],
   "source": [
    "corpus[0]"
   ]
  },
  {
   "cell_type": "markdown",
   "id": "b3d1dc49",
   "metadata": {},
   "source": [
    "### OneHot Representation"
   ]
  },
  {
   "cell_type": "code",
   "execution_count": 27,
   "id": "a2e6bcb2",
   "metadata": {
    "execution": {
     "iopub.execute_input": "2022-10-26T15:08:42.180805Z",
     "iopub.status.busy": "2022-10-26T15:08:42.179852Z",
     "iopub.status.idle": "2022-10-26T15:08:46.890617Z",
     "shell.execute_reply": "2022-10-26T15:08:46.889667Z",
     "shell.execute_reply.started": "2022-10-26T15:08:42.180740Z"
    }
   },
   "outputs": [
    {
     "data": {
      "text/plain": [
       "[5049,\n",
       " 8759,\n",
       " 6527,\n",
       " 4989,\n",
       " 2781,\n",
       " 4252,\n",
       " 2423,\n",
       " 7320,\n",
       " 4754,\n",
       " 7031,\n",
       " 5049,\n",
       " 8759,\n",
       " 6527,\n",
       " 4989,\n",
       " 2781,\n",
       " 4252,\n",
       " 2423,\n",
       " 7320,\n",
       " 4754,\n",
       " 7031,\n",
       " 5670,\n",
       " 5548,\n",
       " 7710,\n",
       " 6679,\n",
       " 7320,\n",
       " 4754,\n",
       " 6227,\n",
       " 2173,\n",
       " 9405,\n",
       " 7341,\n",
       " 4349,\n",
       " 2326,\n",
       " 4571,\n",
       " 5438,\n",
       " 6501,\n",
       " 2515,\n",
       " 1135,\n",
       " 3371,\n",
       " 445,\n",
       " 9740,\n",
       " 6358,\n",
       " 6062,\n",
       " 5420,\n",
       " 9287,\n",
       " 5334,\n",
       " 9582,\n",
       " 4255,\n",
       " 1848,\n",
       " 2823,\n",
       " 4252,\n",
       " 730,\n",
       " 5049,\n",
       " 6871,\n",
       " 6527,\n",
       " 3177,\n",
       " 4868,\n",
       " 6444,\n",
       " 2039,\n",
       " 3584,\n",
       " 5420,\n",
       " 9287,\n",
       " 6586,\n",
       " 208,\n",
       " 4252,\n",
       " 9394,\n",
       " 2002,\n",
       " 2423,\n",
       " 5905,\n",
       " 4255,\n",
       " 2892,\n",
       " 3726,\n",
       " 3232,\n",
       " 6499,\n",
       " 7267,\n",
       " 2368,\n",
       " 3726,\n",
       " 2239,\n",
       " 929,\n",
       " 4381,\n",
       " 8783,\n",
       " 2881,\n",
       " 378,\n",
       " 4252,\n",
       " 8016,\n",
       " 5202,\n",
       " 7656,\n",
       " 7369,\n",
       " 1871,\n",
       " 2881,\n",
       " 4828,\n",
       " 2039,\n",
       " 4252,\n",
       " 1918,\n",
       " 1871,\n",
       " 4828,\n",
       " 6871,\n",
       " 929,\n",
       " 8948,\n",
       " 5049,\n",
       " 6876,\n",
       " 3631,\n",
       " 2041,\n",
       " 2881,\n",
       " 1692,\n",
       " 8874,\n",
       " 3726,\n",
       " 9486,\n",
       " 1682,\n",
       " 6487,\n",
       " 2781,\n",
       " 1072,\n",
       " 6591,\n",
       " 4694,\n",
       " 2425,\n",
       " 2423,\n",
       " 8301,\n",
       " 2041,\n",
       " 2881,\n",
       " 4828,\n",
       " 7320,\n",
       " 4754,\n",
       " 5360,\n",
       " 5685,\n",
       " 5334,\n",
       " 3190,\n",
       " 7656,\n",
       " 4255,\n",
       " 2655,\n",
       " 3899,\n",
       " 4255,\n",
       " 2029,\n",
       " 3451,\n",
       " 3726,\n",
       " 1527,\n",
       " 7118,\n",
       " 4632,\n",
       " 1432,\n",
       " 7527,\n",
       " 7320,\n",
       " 4754,\n",
       " 5946,\n",
       " 7710,\n",
       " 1293,\n",
       " 2039,\n",
       " 1432,\n",
       " 4252,\n",
       " 2359,\n",
       " 4165,\n",
       " 8874,\n",
       " 3726,\n",
       " 1872,\n",
       " 4116,\n",
       " 1432,\n",
       " 2039,\n",
       " 5035,\n",
       " 626,\n",
       " 4421,\n",
       " 4743,\n",
       " 2264,\n",
       " 1265,\n",
       " 4499,\n",
       " 455,\n",
       " 1985,\n",
       " 4754,\n",
       " 7341,\n",
       " 1871,\n",
       " 8225,\n",
       " 3580,\n",
       " 447,\n",
       " 3063,\n",
       " 4632,\n",
       " 7267,\n",
       " 8460,\n",
       " 2049,\n",
       " 6001,\n",
       " 5856,\n",
       " 1871,\n",
       " 8798,\n",
       " 3541,\n",
       " 3674,\n",
       " 1871,\n",
       " 2264,\n",
       " 4754,\n",
       " 8132,\n",
       " 4255,\n",
       " 8225,\n",
       " 2725,\n",
       " 8756,\n",
       " 7656,\n",
       " 8839,\n",
       " 145,\n",
       " 7594,\n",
       " 6817,\n",
       " 5827,\n",
       " 7056,\n",
       " 8176,\n",
       " 730,\n",
       " 9565,\n",
       " 5049,\n",
       " 6871,\n",
       " 6527,\n",
       " 5071,\n",
       " 2423,\n",
       " 3232,\n",
       " 2049,\n",
       " 4754,\n",
       " 8019,\n",
       " 6527,\n",
       " 9850,\n",
       " 3837,\n",
       " 4793,\n",
       " 4381,\n",
       " 4989,\n",
       " 2039,\n",
       " 4252,\n",
       " 2423,\n",
       " 3480,\n",
       " 8016,\n",
       " 1242,\n",
       " 4942,\n",
       " 6871,\n",
       " 929,\n",
       " 8948,\n",
       " 8783,\n",
       " 2881,\n",
       " 665,\n",
       " 4252,\n",
       " 2423,\n",
       " 1871,\n",
       " 4828,\n",
       " 455,\n",
       " 6871,\n",
       " 929,\n",
       " 8948,\n",
       " 665,\n",
       " 4828,\n",
       " 2041,\n",
       " 2130,\n",
       " 7752,\n",
       " 2881,\n",
       " 7320,\n",
       " 4754,\n",
       " 7031,\n",
       " 6845,\n",
       " 5636,\n",
       " 3324,\n",
       " 2781,\n",
       " 3611,\n",
       " 2502,\n",
       " 4255,\n",
       " 1848,\n",
       " 3675,\n",
       " 4754,\n",
       " 1272,\n",
       " 2881,\n",
       " 4828,\n",
       " 9513,\n",
       " 9859,\n",
       " 2211,\n",
       " 59,\n",
       " 7193,\n",
       " 4632,\n",
       " 8188,\n",
       " 4754,\n",
       " 5277,\n",
       " 2326,\n",
       " 3324,\n",
       " 6871,\n",
       " 7923,\n",
       " 2039,\n",
       " 5259,\n",
       " 730,\n",
       " 6527,\n",
       " 6845,\n",
       " 8198,\n",
       " 4942,\n",
       " 8225,\n",
       " 9886,\n",
       " 4593,\n",
       " 1066,\n",
       " 4252,\n",
       " 4802,\n",
       " 3037,\n",
       " 7459,\n",
       " 2423,\n",
       " 4754,\n",
       " 1871,\n",
       " 1964,\n",
       " 3480,\n",
       " 208,\n",
       " 7352,\n",
       " 9426,\n",
       " 3232,\n",
       " 6956,\n",
       " 3936,\n",
       " 916,\n",
       " 2726,\n",
       " 5410,\n",
       " 4989,\n",
       " 5025,\n",
       " 1432,\n",
       " 2726,\n",
       " 5410,\n",
       " 5025,\n",
       " 4252,\n",
       " 1465,\n",
       " 2490,\n",
       " 638,\n",
       " 8405,\n",
       " 7130,\n",
       " 3318,\n",
       " 3834,\n",
       " 4754,\n",
       " 8171,\n",
       " 2643,\n",
       " 6956,\n",
       " 6993,\n",
       " 3149,\n",
       " 5670,\n",
       " 2739,\n",
       " 3177,\n",
       " 4868,\n",
       " 4371,\n",
       " 8355,\n",
       " 9230,\n",
       " 4989,\n",
       " 4940,\n",
       " 3636,\n",
       " 929,\n",
       " 8948,\n",
       " 8596,\n",
       " 7485,\n",
       " 5684,\n",
       " 7193,\n",
       " 2586,\n",
       " 3993,\n",
       " 4930,\n",
       " 5441,\n",
       " 2039,\n",
       " 2674,\n",
       " 749,\n",
       " 4754,\n",
       " 1175,\n",
       " 3985,\n",
       " 305,\n",
       " 1871,\n",
       " 5668,\n",
       " 66,\n",
       " 3596,\n",
       " 3078,\n",
       " 6901,\n",
       " 2381,\n",
       " 3367,\n",
       " 6060,\n",
       " 2297,\n",
       " 4720,\n",
       " 3582,\n",
       " 6216,\n",
       " 1806,\n",
       " 8288,\n",
       " 3051,\n",
       " 1857,\n",
       " 1871,\n",
       " 5049,\n",
       " 1210,\n",
       " 3966,\n",
       " 1996,\n",
       " 5378,\n",
       " 4754,\n",
       " 3579,\n",
       " 4696,\n",
       " 3577,\n",
       " 8203,\n",
       " 208,\n",
       " 6406,\n",
       " 1872,\n",
       " 2292,\n",
       " 473,\n",
       " 5049,\n",
       " 441,\n",
       " 1871,\n",
       " 4376,\n",
       " 6444,\n",
       " 3584,\n",
       " 5420,\n",
       " 9287,\n",
       " 5334,\n",
       " 5670,\n",
       " 5548,\n",
       " 5670,\n",
       " 5684,\n",
       " 6222,\n",
       " 3593,\n",
       " 3881,\n",
       " 6094,\n",
       " 744,\n",
       " 9659,\n",
       " 2235,\n",
       " 5301,\n",
       " 2425,\n",
       " 208,\n",
       " 8948,\n",
       " 9679,\n",
       " 2502,\n",
       " 766,\n",
       " 5719,\n",
       " 7089,\n",
       " 9679,\n",
       " 2502,\n",
       " 5420,\n",
       " 1867,\n",
       " 4459,\n",
       " 5494,\n",
       " 5332,\n",
       " 3905,\n",
       " 9931,\n",
       " 252,\n",
       " 9711,\n",
       " 5723,\n",
       " 7198,\n",
       " 5675,\n",
       " 7134,\n",
       " 1770,\n",
       " 5856,\n",
       " 4882,\n",
       " 3232,\n",
       " 2039,\n",
       " 4593,\n",
       " 1066,\n",
       " 5494,\n",
       " 8759,\n",
       " 5044,\n",
       " 1363,\n",
       " 4942,\n",
       " 8166,\n",
       " 6258,\n",
       " 5262,\n",
       " 2790,\n",
       " 4121,\n",
       " 5670,\n",
       " 2768,\n",
       " 4818,\n",
       " 6258]"
      ]
     },
     "execution_count": 27,
     "metadata": {},
     "output_type": "execute_result"
    }
   ],
   "source": [
    "voc_size=10000\n",
    "onehot_repr=[one_hot(words,voc_size)for words in corpus]\n",
    "onehot_repr[0]"
   ]
  },
  {
   "cell_type": "markdown",
   "id": "cc3a7d33",
   "metadata": {},
   "source": [
    "### Embedding Representation"
   ]
  },
  {
   "cell_type": "code",
   "execution_count": 28,
   "id": "d2e3052f",
   "metadata": {
    "execution": {
     "iopub.execute_input": "2022-10-26T15:09:02.233885Z",
     "iopub.status.busy": "2022-10-26T15:09:02.233496Z",
     "iopub.status.idle": "2022-10-26T15:09:02.636585Z",
     "shell.execute_reply": "2022-10-26T15:09:02.635559Z",
     "shell.execute_reply.started": "2022-10-26T15:09:02.233850Z"
    }
   },
   "outputs": [
    {
     "name": "stdout",
     "output_type": "stream",
     "text": [
      "[[   0    0    0 ... 2768 4818 6258]\n",
      " [   0    0    0 ... 2527 7222 8000]\n",
      " [1530 7673 4785 ... 7346 6728 1104]\n",
      " ...\n",
      " [8016 1939  143 ... 7779 3155 5884]\n",
      " [   0    0    0 ... 6184 6499 5805]\n",
      " [8024 3544 1486 ... 4445 2554  618]]\n"
     ]
    }
   ],
   "source": [
    "sent_length=500\n",
    "embedded_docs=pad_sequences(onehot_repr,padding='pre',maxlen=sent_length)\n",
    "print(embedded_docs)"
   ]
  },
  {
   "cell_type": "code",
   "execution_count": 29,
   "id": "8fbce75f",
   "metadata": {
    "execution": {
     "iopub.execute_input": "2022-10-26T15:09:08.089673Z",
     "iopub.status.busy": "2022-10-26T15:09:08.089313Z",
     "iopub.status.idle": "2022-10-26T15:09:08.097949Z",
     "shell.execute_reply": "2022-10-26T15:09:08.096845Z",
     "shell.execute_reply.started": "2022-10-26T15:09:08.089639Z"
    }
   },
   "outputs": [
    {
     "data": {
      "text/plain": [
       "array([   0,    0,    0,    0,    0,    0,    0,    0,    0,    0,    0,\n",
       "          0,    0,    0,    0,    0,    0,    0,    0,    0,    0,    0,\n",
       "          0,    0,    0,    0,    0,    0,    0,    0,    0,    0,    0,\n",
       "          0,    0,    0,    0,    0,    0,    0,    0,    0,    0,    0,\n",
       "          0,    0,    0,    0,    0,    0,    0,    0,    0,    0,    0,\n",
       "          0,    0, 5049, 8759, 6527, 4989, 2781, 4252, 2423, 7320, 4754,\n",
       "       7031, 5049, 8759, 6527, 4989, 2781, 4252, 2423, 7320, 4754, 7031,\n",
       "       5670, 5548, 7710, 6679, 7320, 4754, 6227, 2173, 9405, 7341, 4349,\n",
       "       2326, 4571, 5438, 6501, 2515, 1135, 3371,  445, 9740, 6358, 6062,\n",
       "       5420, 9287, 5334, 9582, 4255, 1848, 2823, 4252,  730, 5049, 6871,\n",
       "       6527, 3177, 4868, 6444, 2039, 3584, 5420, 9287, 6586,  208, 4252,\n",
       "       9394, 2002, 2423, 5905, 4255, 2892, 3726, 3232, 6499, 7267, 2368,\n",
       "       3726, 2239,  929, 4381, 8783, 2881,  378, 4252, 8016, 5202, 7656,\n",
       "       7369, 1871, 2881, 4828, 2039, 4252, 1918, 1871, 4828, 6871,  929,\n",
       "       8948, 5049, 6876, 3631, 2041, 2881, 1692, 8874, 3726, 9486, 1682,\n",
       "       6487, 2781, 1072, 6591, 4694, 2425, 2423, 8301, 2041, 2881, 4828,\n",
       "       7320, 4754, 5360, 5685, 5334, 3190, 7656, 4255, 2655, 3899, 4255,\n",
       "       2029, 3451, 3726, 1527, 7118, 4632, 1432, 7527, 7320, 4754, 5946,\n",
       "       7710, 1293, 2039, 1432, 4252, 2359, 4165, 8874, 3726, 1872, 4116,\n",
       "       1432, 2039, 5035,  626, 4421, 4743, 2264, 1265, 4499,  455, 1985,\n",
       "       4754, 7341, 1871, 8225, 3580,  447, 3063, 4632, 7267, 8460, 2049,\n",
       "       6001, 5856, 1871, 8798, 3541, 3674, 1871, 2264, 4754, 8132, 4255,\n",
       "       8225, 2725, 8756, 7656, 8839,  145, 7594, 6817, 5827, 7056, 8176,\n",
       "        730, 9565, 5049, 6871, 6527, 5071, 2423, 3232, 2049, 4754, 8019,\n",
       "       6527, 9850, 3837, 4793, 4381, 4989, 2039, 4252, 2423, 3480, 8016,\n",
       "       1242, 4942, 6871,  929, 8948, 8783, 2881,  665, 4252, 2423, 1871,\n",
       "       4828,  455, 6871,  929, 8948,  665, 4828, 2041, 2130, 7752, 2881,\n",
       "       7320, 4754, 7031, 6845, 5636, 3324, 2781, 3611, 2502, 4255, 1848,\n",
       "       3675, 4754, 1272, 2881, 4828, 9513, 9859, 2211,   59, 7193, 4632,\n",
       "       8188, 4754, 5277, 2326, 3324, 6871, 7923, 2039, 5259,  730, 6527,\n",
       "       6845, 8198, 4942, 8225, 9886, 4593, 1066, 4252, 4802, 3037, 7459,\n",
       "       2423, 4754, 1871, 1964, 3480,  208, 7352, 9426, 3232, 6956, 3936,\n",
       "        916, 2726, 5410, 4989, 5025, 1432, 2726, 5410, 5025, 4252, 1465,\n",
       "       2490,  638, 8405, 7130, 3318, 3834, 4754, 8171, 2643, 6956, 6993,\n",
       "       3149, 5670, 2739, 3177, 4868, 4371, 8355, 9230, 4989, 4940, 3636,\n",
       "        929, 8948, 8596, 7485, 5684, 7193, 2586, 3993, 4930, 5441, 2039,\n",
       "       2674,  749, 4754, 1175, 3985,  305, 1871, 5668,   66, 3596, 3078,\n",
       "       6901, 2381, 3367, 6060, 2297, 4720, 3582, 6216, 1806, 8288, 3051,\n",
       "       1857, 1871, 5049, 1210, 3966, 1996, 5378, 4754, 3579, 4696, 3577,\n",
       "       8203,  208, 6406, 1872, 2292,  473, 5049,  441, 1871, 4376, 6444,\n",
       "       3584, 5420, 9287, 5334, 5670, 5548, 5670, 5684, 6222, 3593, 3881,\n",
       "       6094,  744, 9659, 2235, 5301, 2425,  208, 8948, 9679, 2502,  766,\n",
       "       5719, 7089, 9679, 2502, 5420, 1867, 4459, 5494, 5332, 3905, 9931,\n",
       "        252, 9711, 5723, 7198, 5675, 7134, 1770, 5856, 4882, 3232, 2039,\n",
       "       4593, 1066, 5494, 8759, 5044, 1363, 4942, 8166, 6258, 5262, 2790,\n",
       "       4121, 5670, 2768, 4818, 6258], dtype=int32)"
      ]
     },
     "execution_count": 29,
     "metadata": {},
     "output_type": "execute_result"
    }
   ],
   "source": [
    "embedded_docs[0]"
   ]
  },
  {
   "cell_type": "markdown",
   "id": "fbf494c3",
   "metadata": {},
   "source": [
    "## Creating Model"
   ]
  },
  {
   "cell_type": "code",
   "execution_count": 31,
   "id": "e8ac399d",
   "metadata": {
    "execution": {
     "iopub.execute_input": "2022-10-26T15:09:28.772307Z",
     "iopub.status.busy": "2022-10-26T15:09:28.771626Z",
     "iopub.status.idle": "2022-10-26T15:09:28.990120Z",
     "shell.execute_reply": "2022-10-26T15:09:28.989092Z",
     "shell.execute_reply.started": "2022-10-26T15:09:28.772266Z"
    }
   },
   "outputs": [
    {
     "name": "stdout",
     "output_type": "stream",
     "text": [
      "Model: \"sequential_1\"\n",
      "_________________________________________________________________\n",
      "Layer (type)                 Output Shape              Param #   \n",
      "=================================================================\n",
      "embedding_1 (Embedding)      (None, 500, 500)          5000000   \n",
      "_________________________________________________________________\n",
      "dropout_2 (Dropout)          (None, 500, 500)          0         \n",
      "_________________________________________________________________\n",
      "lstm_1 (LSTM)                (None, 100)               240400    \n",
      "_________________________________________________________________\n",
      "dropout_3 (Dropout)          (None, 100)               0         \n",
      "_________________________________________________________________\n",
      "dense_1 (Dense)              (None, 1)                 101       \n",
      "=================================================================\n",
      "Total params: 5,240,501\n",
      "Trainable params: 5,240,501\n",
      "Non-trainable params: 0\n",
      "_________________________________________________________________\n",
      "None\n"
     ]
    }
   ],
   "source": [
    "embedding_vector_features=500\n",
    "model=Sequential()\n",
    "model.add(Embedding(voc_size,embedding_vector_features,input_length=sent_length))\n",
    "model.add(Dropout(0.2))\n",
    "model.add(LSTM(100))\n",
    "model.add(Dropout(0.2))\n",
    "model.add(Dense(1,activation='sigmoid'))\n",
    "model.compile(loss='binary_crossentropy',optimizer='adam',metrics=['accuracy'])\n",
    "print(model.summary())"
   ]
  },
  {
   "cell_type": "code",
   "execution_count": 32,
   "id": "dfef5d5f",
   "metadata": {
    "execution": {
     "iopub.execute_input": "2022-10-26T15:09:35.350687Z",
     "iopub.status.busy": "2022-10-26T15:09:35.350120Z",
     "iopub.status.idle": "2022-10-26T15:09:35.357844Z",
     "shell.execute_reply": "2022-10-26T15:09:35.356906Z",
     "shell.execute_reply.started": "2022-10-26T15:09:35.350645Z"
    }
   },
   "outputs": [
    {
     "data": {
      "text/plain": [
       "(25274, (25274,))"
      ]
     },
     "execution_count": 32,
     "metadata": {},
     "output_type": "execute_result"
    }
   ],
   "source": [
    "len(embedded_docs),y.shape"
   ]
  },
  {
   "cell_type": "code",
   "execution_count": 33,
   "id": "f3938cab",
   "metadata": {
    "execution": {
     "iopub.execute_input": "2022-10-26T15:09:38.058557Z",
     "iopub.status.busy": "2022-10-26T15:09:38.057466Z",
     "iopub.status.idle": "2022-10-26T15:09:38.083516Z",
     "shell.execute_reply": "2022-10-26T15:09:38.082592Z",
     "shell.execute_reply.started": "2022-10-26T15:09:38.058505Z"
    }
   },
   "outputs": [],
   "source": [
    "X_final=np.array(embedded_docs)\n",
    "y_final=np.array(y)"
   ]
  },
  {
   "cell_type": "code",
   "execution_count": 34,
   "id": "2bf2a5ab",
   "metadata": {
    "execution": {
     "iopub.execute_input": "2022-10-26T15:09:40.300880Z",
     "iopub.status.busy": "2022-10-26T15:09:40.300504Z",
     "iopub.status.idle": "2022-10-26T15:09:40.328938Z",
     "shell.execute_reply": "2022-10-26T15:09:40.327937Z",
     "shell.execute_reply.started": "2022-10-26T15:09:40.300847Z"
    }
   },
   "outputs": [],
   "source": [
    "from sklearn.model_selection import train_test_split\n",
    "X_train, X_test, y_train, y_test = train_test_split(X_final, y_final, test_size=0.20, random_state=0)"
   ]
  },
  {
   "cell_type": "markdown",
   "id": "a0193cb9",
   "metadata": {},
   "source": [
    "## Model Training"
   ]
  },
  {
   "cell_type": "code",
   "execution_count": 39,
   "id": "fe9574b7",
   "metadata": {
    "execution": {
     "iopub.execute_input": "2022-10-26T15:18:45.792802Z",
     "iopub.status.busy": "2022-10-26T15:18:45.792411Z",
     "iopub.status.idle": "2022-10-26T15:20:49.382992Z",
     "shell.execute_reply": "2022-10-26T15:20:49.382094Z",
     "shell.execute_reply.started": "2022-10-26T15:18:45.792746Z"
    }
   },
   "outputs": [
    {
     "name": "stdout",
     "output_type": "stream",
     "text": [
      "Epoch 1/10\n",
      "316/316 [==============================] - 12s 39ms/step - loss: 0.0113 - accuracy: 0.9947 - val_loss: 1.2393 - val_accuracy: 0.8243\n",
      "Epoch 2/10\n",
      "316/316 [==============================] - 12s 39ms/step - loss: 0.0083 - accuracy: 0.9959 - val_loss: 1.3341 - val_accuracy: 0.8085\n",
      "Epoch 3/10\n",
      "316/316 [==============================] - 12s 39ms/step - loss: 0.0096 - accuracy: 0.9954 - val_loss: 1.2663 - val_accuracy: 0.8249\n",
      "Epoch 4/10\n",
      "316/316 [==============================] - 12s 39ms/step - loss: 0.0117 - accuracy: 0.9951 - val_loss: 1.2328 - val_accuracy: 0.8231\n",
      "Epoch 5/10\n",
      "316/316 [==============================] - 12s 39ms/step - loss: 0.0131 - accuracy: 0.9943 - val_loss: 1.2389 - val_accuracy: 0.8249\n",
      "Epoch 6/10\n",
      "316/316 [==============================] - 12s 39ms/step - loss: 0.0098 - accuracy: 0.9954 - val_loss: 1.2299 - val_accuracy: 0.8291\n",
      "Epoch 7/10\n",
      "316/316 [==============================] - 12s 39ms/step - loss: 0.0143 - accuracy: 0.9937 - val_loss: 1.2170 - val_accuracy: 0.8229\n",
      "Epoch 8/10\n",
      "316/316 [==============================] - 12s 39ms/step - loss: 0.0091 - accuracy: 0.9958 - val_loss: 1.2582 - val_accuracy: 0.8220\n",
      "Epoch 9/10\n",
      "316/316 [==============================] - 12s 39ms/step - loss: 0.0069 - accuracy: 0.9961 - val_loss: 1.3305 - val_accuracy: 0.8283\n",
      "Epoch 10/10\n",
      "316/316 [==============================] - 12s 39ms/step - loss: 0.0075 - accuracy: 0.9962 - val_loss: 1.3961 - val_accuracy: 0.8249\n"
     ]
    },
    {
     "data": {
      "text/plain": [
       "<keras.callbacks.History at 0x7f9202badc90>"
      ]
     },
     "execution_count": 39,
     "metadata": {},
     "output_type": "execute_result"
    }
   ],
   "source": [
    "model.fit(X_train,y_train,validation_data=(X_test,y_test),epochs=10,batch_size=64)"
   ]
  },
  {
   "cell_type": "code",
   "execution_count": 40,
   "id": "36d36e90",
   "metadata": {
    "execution": {
     "iopub.execute_input": "2022-10-26T15:20:51.112542Z",
     "iopub.status.busy": "2022-10-26T15:20:51.112188Z",
     "iopub.status.idle": "2022-10-26T15:21:02.422740Z",
     "shell.execute_reply": "2022-10-26T15:21:02.421693Z",
     "shell.execute_reply.started": "2022-10-26T15:20:51.112508Z"
    }
   },
   "outputs": [],
   "source": [
    "y_pred=model.predict(X_test)"
   ]
  },
  {
   "cell_type": "code",
   "execution_count": 41,
   "id": "a66340bb",
   "metadata": {
    "execution": {
     "iopub.execute_input": "2022-10-26T15:21:09.151157Z",
     "iopub.status.busy": "2022-10-26T15:21:09.150784Z",
     "iopub.status.idle": "2022-10-26T15:21:09.157060Z",
     "shell.execute_reply": "2022-10-26T15:21:09.155785Z",
     "shell.execute_reply.started": "2022-10-26T15:21:09.151125Z"
    }
   },
   "outputs": [],
   "source": [
    "y_pred = y_pred.flatten()\n",
    "y_pred = np.where(y_pred > 0.5, 1, 0)"
   ]
  },
  {
   "cell_type": "markdown",
   "id": "bfd9d49a",
   "metadata": {},
   "source": [
    "## Confusion Matrix And Accuracy"
   ]
  },
  {
   "cell_type": "code",
   "execution_count": 42,
   "id": "77ae6f00",
   "metadata": {
    "execution": {
     "iopub.execute_input": "2022-10-26T15:21:23.551458Z",
     "iopub.status.busy": "2022-10-26T15:21:23.550716Z",
     "iopub.status.idle": "2022-10-26T15:21:23.559463Z",
     "shell.execute_reply": "2022-10-26T15:21:23.558442Z",
     "shell.execute_reply.started": "2022-10-26T15:21:23.551410Z"
    }
   },
   "outputs": [],
   "source": [
    "from sklearn.metrics import confusion_matrix\n",
    "cm = confusion_matrix(y_test,y_pred)"
   ]
  },
  {
   "cell_type": "code",
   "execution_count": 44,
   "id": "e4fda148",
   "metadata": {
    "execution": {
     "iopub.execute_input": "2022-10-26T15:21:34.423404Z",
     "iopub.status.busy": "2022-10-26T15:21:34.422695Z",
     "iopub.status.idle": "2022-10-26T15:21:34.656697Z",
     "shell.execute_reply": "2022-10-26T15:21:34.655678Z",
     "shell.execute_reply.started": "2022-10-26T15:21:34.423367Z"
    }
   },
   "outputs": [
    {
     "data": {
      "image/png": "[encoded data removed]",
      "text/plain": [
       "<Figure size 576x432 with 2 Axes>"
      ]
     },
     "metadata": {
      "needs_background": "light"
     },
     "output_type": "display_data"
    }
   ],
   "source": [
    "import matplotlib.pyplot as plt\n",
    "import seaborn as sns\n",
    "plt.figure(figsize = (8,6))\n",
    "sns.heatmap(cm, annot=True, fmt = \"d\")\n",
    "plt.xlabel('Predicted')\n",
    "plt.ylabel('Real')\n",
    "plt.title(\"Confusion Matrix Heat Map\")\n",
    "plt.show()"
   ]
  },
  {
   "cell_type": "code",
   "execution_count": 45,
   "id": "31b4babb",
   "metadata": {
    "execution": {
     "iopub.execute_input": "2022-10-26T15:21:42.099855Z",
     "iopub.status.busy": "2022-10-26T15:21:42.099472Z",
     "iopub.status.idle": "2022-10-26T15:21:42.109308Z",
     "shell.execute_reply": "2022-10-26T15:21:42.108280Z",
     "shell.execute_reply.started": "2022-10-26T15:21:42.099821Z"
    }
   },
   "outputs": [
    {
     "data": {
      "text/plain": [
       "0.8249258160237388"
      ]
     },
     "execution_count": 45,
     "metadata": {},
     "output_type": "execute_result"
    }
   ],
   "source": [
    "from sklearn.metrics import accuracy_score\n",
    "accuracy_score(y_test, y_pred)"
   ]
  },
  {
   "cell_type": "markdown",
   "id": "b6c158d8",
   "metadata": {},
   "source": [
    "### Accuracy of testing dataset is 82.49%"
   ]
  }
 ],
 "metadata": {
  "kernelspec": {
   "display_name": "Python 3 (ipykernel)",
   "language": "python",
   "name": "python3"
  },
  "language_info": {
   "codemirror_mode": {
    "name": "ipython",
    "version": 3
   },
   "file_extension": ".py",
   "mimetype": "text/x-python",
   "name": "python",
   "nbconvert_exporter": "python",
   "pygments_lexer": "ipython3",
   "version": "3.10.7"
  }
 },
 "nbformat": 4,
 "nbformat_minor": 5
}
